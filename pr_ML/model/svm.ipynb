{
 "cells": [
  {
   "cell_type": "code",
   "execution_count": 1,
   "metadata": {},
   "outputs": [
    {
     "name": "stderr",
     "output_type": "stream",
     "text": [
      "C:\\Users\\ADMIN\\AppData\\Local\\Temp\\ipykernel_11752\\3349776673.py:22: FutureWarning: Downcasting behavior in `replace` is deprecated and will be removed in a future version. To retain the old behavior, explicitly call `result.infer_objects(copy=False)`. To opt-in to the future behavior, set `pd.set_option('future.no_silent_downcasting', True)`\n",
      "  X = X.replace({'yes': 1, 'no': 0})\n",
      "C:\\Users\\ADMIN\\AppData\\Local\\Temp\\ipykernel_11752\\3349776673.py:23: FutureWarning: Downcasting behavior in `replace` is deprecated and will be removed in a future version. To retain the old behavior, explicitly call `result.infer_objects(copy=False)`. To opt-in to the future behavior, set `pd.set_option('future.no_silent_downcasting', True)`\n",
      "  X = X.replace({True: 1, False: 0})\n"
     ]
    }
   ],
   "source": [
    "import joblib\n",
    "import pandas as pd\n",
    "import matplotlib.pyplot as plt\n",
    "import seaborn as sns\n",
    "from sklearn.decomposition import PCA\n",
    "from sklearn.model_selection import train_test_split\n",
    "from sklearn.neural_network import MLPClassifier\n",
    "from sklearn.metrics import accuracy_score, classification_report\n",
    "from sklearn.preprocessing import StandardScaler\n",
    "from sklearn.preprocessing import LabelEncoder\n",
    "from sklearn.svm import SVC\n",
    "\n",
    "data = pd.read_csv('D:\\\\VS_Code\\\\Python\\\\machine_learning\\\\project_ML\\\\Machine-Learning\\\\Pre_treatment\\\\ObesityDataSet_raw_and_data_sinthetic.csv')\n",
    "continuous_columns = ['Age', 'Height', 'Weight', 'NCP', 'CH2O', 'FAF', 'TUE', 'FCVC']\n",
    "\n",
    "scaler = StandardScaler()\n",
    "# data[continuous_columns] = scaler.fit_transform(data[continuous_columns])\n",
    "\n",
    "X = data.iloc[:, :-1]\n",
    "y = data.iloc[:, -1]\n",
    "X = pd.get_dummies(X, columns=['Gender', 'CAEC', 'CALC', 'MTRANS'])\n",
    "X = X.replace({'yes': 1, 'no': 0})\n",
    "X = X.replace({True: 1, False: 0})\n",
    "\n",
    "le = LabelEncoder()\n",
    "y_encoded = le.fit_transform(y)\n",
    "\n",
    "svm_clf = SVC(kernel='linear', C=50)\n",
    "svm_clf.fit(X, y_encoded)\n",
    "\n",
    "y_pred = svm_clf.predict(X)\n",
    "\n",
    "joblib.dump(svm_clf, 'SVM.pkl')\n",
    "joblib.dump((X.columns), 'columns.pkl')\n",
    "accuracy = accuracy_score(y_encoded, y_pred)\n",
    "\n"
   ]
  },
  {
   "cell_type": "code",
   "execution_count": 2,
   "metadata": {},
   "outputs": [
    {
     "name": "stdout",
     "output_type": "stream",
     "text": [
      "0.9815253434391283\n"
     ]
    }
   ],
   "source": [
    "print(accuracy)"
   ]
  }
 ],
 "metadata": {
  "kernelspec": {
   "display_name": "Python 3",
   "language": "python",
   "name": "python3"
  },
  "language_info": {
   "codemirror_mode": {
    "name": "ipython",
    "version": 3
   },
   "file_extension": ".py",
   "mimetype": "text/x-python",
   "name": "python",
   "nbconvert_exporter": "python",
   "pygments_lexer": "ipython3",
   "version": "3.13.1"
  }
 },
 "nbformat": 4,
 "nbformat_minor": 2
}
