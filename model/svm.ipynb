{
 "cells": [
  {
   "cell_type": "code",
   "execution_count": 15,
   "metadata": {},
   "outputs": [
    {
     "name": "stderr",
     "output_type": "stream",
     "text": [
      "C:\\Users\\ADMIN\\AppData\\Local\\Temp\\ipykernel_6544\\215280552.py:24: FutureWarning: Downcasting behavior in `replace` is deprecated and will be removed in a future version. To retain the old behavior, explicitly call `result.infer_objects(copy=False)`. To opt-in to the future behavior, set `pd.set_option('future.no_silent_downcasting', True)`\n",
      "  X = X.replace({'yes': 1, 'no': 0})\n",
      "C:\\Users\\ADMIN\\AppData\\Local\\Temp\\ipykernel_6544\\215280552.py:25: FutureWarning: Downcasting behavior in `replace` is deprecated and will be removed in a future version. To retain the old behavior, explicitly call `result.infer_objects(copy=False)`. To opt-in to the future behavior, set `pd.set_option('future.no_silent_downcasting', True)`\n",
      "  X = X.replace({True: 1, False: 0})\n"
     ]
    }
   ],
   "source": [
    "import joblib\n",
    "import pandas as pd\n",
    "import matplotlib.pyplot as plt\n",
    "import seaborn as sns\n",
    "from sklearn.decomposition import PCA\n",
    "from sklearn.model_selection import train_test_split\n",
    "from sklearn.neural_network import MLPClassifier\n",
    "from sklearn.metrics import accuracy_score, classification_report\n",
    "from sklearn.preprocessing import StandardScaler\n",
    "from sklearn.preprocessing import LabelEncoder\n",
    "from sklearn.svm import SVC\n",
    "\n",
    "data = pd.read_csv('D:\\\\VS_Code\\\\Python\\\\machine_learning\\\\project_ML\\\\Machine-Learning\\\\Pre_treatment\\\\ObesityDataSet_raw_and_data_sinthetic.csv')\n",
    "continuous_columns = ['Age', 'Height', 'Weight', 'NCP', 'CH2O', 'FAF', 'TUE', 'FCVC']\n",
    "\n",
    "# Khởi tạo bộ chuẩn hóa\n",
    "scaler = StandardScaler()\n",
    "\n",
    "# Chuẩn hóa các trường liên tục\n",
    "# data[continuous_columns] = scaler.fit_transform(data[continuous_columns])\n",
    "X = data.iloc[:, :-1]\n",
    "y = data.iloc[:, -1]\n",
    "X = pd.get_dummies(X, columns=['Gender', 'CAEC', 'CALC', 'MTRANS'])\n",
    "X = X.replace({'yes': 1, 'no': 0})\n",
    "X = X.replace({True: 1, False: 0})\n",
    "\n",
    "le = LabelEncoder()\n",
    "y_encoded = le.fit_transform(y)\n",
    "# X_temp, X_test, y_temp, y_test = train_test_split(X, y_encoded, test_size=0.3, random_state=42)\n",
    "\n",
    "svm_clf = SVC(kernel='linear', C=50)\n",
    "svm_clf.fit(X, y_encoded)\n",
    "\n",
    "y_pred = svm_clf.predict(X)\n",
    "\n",
    "joblib.dump(svm_clf, 'SVM1.pkl')\n",
    "joblib.dump((X.columns), 'columns.pkl')\n",
    "accuracy = accuracy_score(y_encoded, y_pred)\n",
    "\n",
    "\n",
    "\n"
   ]
  },
  {
   "cell_type": "code",
   "execution_count": 12,
   "metadata": {},
   "outputs": [
    {
     "name": "stdout",
     "output_type": "stream",
     "text": [
      "        Age    Height    Weight  family_history_with_overweight  FAVC  \\\n",
      "0 -0.522124 -0.875589 -0.862558                               1     0   \n",
      "\n",
      "       FCVC       NCP  SMOKE      CH2O  SCC  ...  CAEC_no  CALC_Always  \\\n",
      "0 -0.785019  0.404153      0 -0.013073    0  ...        0            0   \n",
      "\n",
      "   CALC_Frequently  CALC_Sometimes  CALC_no  MTRANS_Automobile  MTRANS_Bike  \\\n",
      "0                0               0        1                  0            0   \n",
      "\n",
      "   MTRANS_Motorbike  MTRANS_Public_Transportation  MTRANS_Walking  \n",
      "0                 0                             1               0  \n",
      "\n",
      "[1 rows x 27 columns]\n"
     ]
    }
   ],
   "source": [
    "print(X.head(1))"
   ]
  },
  {
   "cell_type": "code",
   "execution_count": 16,
   "metadata": {},
   "outputs": [
    {
     "name": "stdout",
     "output_type": "stream",
     "text": [
      "0.9815253434391283\n"
     ]
    }
   ],
   "source": [
    "print(accuracy)"
   ]
  },
  {
   "cell_type": "code",
   "execution_count": null,
   "metadata": {},
   "outputs": [],
   "source": []
  }
 ],
 "metadata": {
  "kernelspec": {
   "display_name": "Python 3",
   "language": "python",
   "name": "python3"
  },
  "language_info": {
   "codemirror_mode": {
    "name": "ipython",
    "version": 3
   },
   "file_extension": ".py",
   "mimetype": "text/x-python",
   "name": "python",
   "nbconvert_exporter": "python",
   "pygments_lexer": "ipython3",
   "version": "3.13.1"
  }
 },
 "nbformat": 4,
 "nbformat_minor": 2
}
